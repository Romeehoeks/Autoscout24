{
 "cells": [
  {
   "cell_type": "code",
   "execution_count": 1,
   "id": "64e126ac",
   "metadata": {},
   "outputs": [],
   "source": [
    "import pandas as pd\n",
    "import numpy as np\n",
    "import requests\n",
    "from bs4 import BeautifulSoup\n",
    "from time import sleep"
   ]
  },
  {
   "cell_type": "code",
   "execution_count": 3,
   "id": "35c1e64e",
   "metadata": {},
   "outputs": [],
   "source": [
    "#Declaring the headers \n",
    "headers = {\"Accept-Language\": \"en-US,en;q=0.5\"}\n",
    "\n",
    "#Declaring the list of empty variables, So that we can append the data overall\n",
    "car_name = []\n",
    "car_price = []\n",
    "car_km  = []\n",
    "\n",
    "#creating an array of values and passing it in the url for dynamic webpages\n",
    "pages = np.arange(1,20,1)"
   ]
  },
  {
   "cell_type": "code",
   "execution_count": 4,
   "id": "76bde0a9",
   "metadata": {},
   "outputs": [],
   "source": [
    "#the whole core of the script\n",
    "for page in pages:\n",
    "    page = requests.get(\"https://www.autoscout24.nl/lst/?sort=price&desc=1&fuel=E&ustate=N%2CU&size=20&page=\"+str(page)+\"&cy=NL&fregto=2016&fregfrom=2011&atype=C&fc=7&qry=&recommended_sorting_based_id=4b59d5cf-666e-4c05-a7cf-9e35fa04d91d&\")\n",
    "    soup = BeautifulSoup(page.text, 'html.parser')\n",
    "    autoscout_data = soup.findAll('div', attrs = {'class': \"cl-list-element cl-list-element-gap\"})\n",
    "    sleep(5)\n",
    "    for store in autoscout_data:\n",
    "        name = store.find(\"h2\", {\"class\": \"cldt-summary-makemodel sc-font-bold sc-ellipsis\"}).text.strip(None)\n",
    "        car_name.append(name)\n",
    "        price = store.find(\"span\", {\"class\": \"cldt-price sc-font-xl sc-font-bold\"}).text.strip(None)\n",
    "        car_price.append(price)"
   ]
  },
  {
   "cell_type": "code",
   "execution_count": 5,
   "id": "56818566",
   "metadata": {},
   "outputs": [
    {
     "data": {
      "text/html": [
       "<div>\n",
       "<style scoped>\n",
       "    .dataframe tbody tr th:only-of-type {\n",
       "        vertical-align: middle;\n",
       "    }\n",
       "\n",
       "    .dataframe tbody tr th {\n",
       "        vertical-align: top;\n",
       "    }\n",
       "\n",
       "    .dataframe thead th {\n",
       "        text-align: right;\n",
       "    }\n",
       "</style>\n",
       "<table border=\"1\" class=\"dataframe\">\n",
       "  <thead>\n",
       "    <tr style=\"text-align: right;\">\n",
       "      <th></th>\n",
       "      <th>Car Name</th>\n",
       "      <th>Car Price</th>\n",
       "    </tr>\n",
       "  </thead>\n",
       "  <tbody>\n",
       "    <tr>\n",
       "      <th>0</th>\n",
       "      <td>Tesla Roadster</td>\n",
       "      <td>€ 129.950,-\\nBTW verrekenbaar</td>\n",
       "    </tr>\n",
       "    <tr>\n",
       "      <th>1</th>\n",
       "      <td>Tesla Model X</td>\n",
       "      <td>€ 84.999,-\\nBTW verrekenbaar</td>\n",
       "    </tr>\n",
       "    <tr>\n",
       "      <th>2</th>\n",
       "      <td>Tesla Model X</td>\n",
       "      <td>€ 84.579,-\\nBTW verrekenbaar</td>\n",
       "    </tr>\n",
       "    <tr>\n",
       "      <th>3</th>\n",
       "      <td>Tesla Model X</td>\n",
       "      <td>€ 84.579,-\\nBTW verrekenbaar</td>\n",
       "    </tr>\n",
       "    <tr>\n",
       "      <th>4</th>\n",
       "      <td>Tesla Model X</td>\n",
       "      <td>€ 77.900,-\\nBTW verrekenbaar</td>\n",
       "    </tr>\n",
       "    <tr>\n",
       "      <th>...</th>\n",
       "      <td>...</td>\n",
       "      <td>...</td>\n",
       "    </tr>\n",
       "    <tr>\n",
       "      <th>328</th>\n",
       "      <td>Piaggio Porter</td>\n",
       "      <td>€ 5.000,-\\nBTW verrekenbaar</td>\n",
       "    </tr>\n",
       "    <tr>\n",
       "      <th>329</th>\n",
       "      <td>Renault Kangoo</td>\n",
       "      <td>€ 4.999,-\\nBTW verrekenbaar</td>\n",
       "    </tr>\n",
       "    <tr>\n",
       "      <th>330</th>\n",
       "      <td>Renault Kangoo</td>\n",
       "      <td>€ 4.950,-\\nBTW verrekenbaar</td>\n",
       "    </tr>\n",
       "    <tr>\n",
       "      <th>331</th>\n",
       "      <td>smart forTwo</td>\n",
       "      <td>€ 4.900,-\\nBTW verrekenbaar</td>\n",
       "    </tr>\n",
       "    <tr>\n",
       "      <th>332</th>\n",
       "      <td>Overig</td>\n",
       "      <td>€ 1.490,-\\nBTW verrekenbaar</td>\n",
       "    </tr>\n",
       "  </tbody>\n",
       "</table>\n",
       "<p>333 rows × 2 columns</p>\n",
       "</div>"
      ],
      "text/plain": [
       "           Car Name                      Car Price\n",
       "0    Tesla Roadster  € 129.950,-\\nBTW verrekenbaar\n",
       "1     Tesla Model X   € 84.999,-\\nBTW verrekenbaar\n",
       "2     Tesla Model X   € 84.579,-\\nBTW verrekenbaar\n",
       "3     Tesla Model X   € 84.579,-\\nBTW verrekenbaar\n",
       "4     Tesla Model X   € 77.900,-\\nBTW verrekenbaar\n",
       "..              ...                            ...\n",
       "328  Piaggio Porter    € 5.000,-\\nBTW verrekenbaar\n",
       "329  Renault Kangoo    € 4.999,-\\nBTW verrekenbaar\n",
       "330  Renault Kangoo    € 4.950,-\\nBTW verrekenbaar\n",
       "331    smart forTwo    € 4.900,-\\nBTW verrekenbaar\n",
       "332          Overig    € 1.490,-\\nBTW verrekenbaar\n",
       "\n",
       "[333 rows x 2 columns]"
      ]
     },
     "execution_count": 5,
     "metadata": {},
     "output_type": "execute_result"
    }
   ],
   "source": [
    "a = {'Car Name' : car_name,'Car Price' : car_price}\n",
    "df = pd.DataFrame.from_dict(a, orient='index')\n",
    "df = df.transpose()\n",
    "\n",
    "df"
   ]
  },
  {
   "cell_type": "code",
   "execution_count": 6,
   "id": "80a327ad",
   "metadata": {},
   "outputs": [],
   "source": [
    "df.to_csv(\"autoscout2.csv\")"
   ]
  },
  {
   "cell_type": "code",
   "execution_count": null,
   "id": "9ed91462",
   "metadata": {},
   "outputs": [],
   "source": []
  }
 ],
 "metadata": {
  "kernelspec": {
   "display_name": "Python 3 (ipykernel)",
   "language": "python",
   "name": "python3"
  },
  "language_info": {
   "codemirror_mode": {
    "name": "ipython",
    "version": 3
   },
   "file_extension": ".py",
   "mimetype": "text/x-python",
   "name": "python",
   "nbconvert_exporter": "python",
   "pygments_lexer": "ipython3",
   "version": "3.9.7"
  }
 },
 "nbformat": 4,
 "nbformat_minor": 5
}
